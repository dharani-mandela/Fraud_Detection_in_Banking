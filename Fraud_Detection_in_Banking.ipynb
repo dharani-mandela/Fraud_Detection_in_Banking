{
 "cells": [
  {
   "cell_type": "code",
   "execution_count": 1,
   "metadata": {},
   "outputs": [],
   "source": [
    "#importing libraries\n",
    "import pandas as pd\n",
    "import numpy as np\n",
    "import seaborn as sns\n",
    "import matplotlib.pyplot as plt\n",
    "import pickle"
   ]
  },
  {
   "cell_type": "code",
   "execution_count": 4,
   "metadata": {},
   "outputs": [],
   "source": [
    "#read csv file\n",
    "data = pd.read_csv(\"fraud_data.csv\")\n",
    "df=pd.DataFrame(data)"
   ]
  },
  {
   "cell_type": "code",
   "execution_count": 5,
   "metadata": {},
   "outputs": [
    {
     "data": {
      "text/html": [
       "<div>\n",
       "<style scoped>\n",
       "    .dataframe tbody tr th:only-of-type {\n",
       "        vertical-align: middle;\n",
       "    }\n",
       "\n",
       "    .dataframe tbody tr th {\n",
       "        vertical-align: top;\n",
       "    }\n",
       "\n",
       "    .dataframe thead th {\n",
       "        text-align: right;\n",
       "    }\n",
       "</style>\n",
       "<table border=\"1\" class=\"dataframe\">\n",
       "  <thead>\n",
       "    <tr style=\"text-align: right;\">\n",
       "      <th></th>\n",
       "      <th>ID</th>\n",
       "      <th>step</th>\n",
       "      <th>type</th>\n",
       "      <th>amount</th>\n",
       "      <th>nameOrig</th>\n",
       "      <th>oldbalanceOrg</th>\n",
       "      <th>newbalanceOrig</th>\n",
       "      <th>nameDest</th>\n",
       "      <th>oldbalanceDest</th>\n",
       "      <th>newbalanceDest</th>\n",
       "      <th>isFraud</th>\n",
       "    </tr>\n",
       "  </thead>\n",
       "  <tbody>\n",
       "    <tr>\n",
       "      <th>0</th>\n",
       "      <td>1</td>\n",
       "      <td>487</td>\n",
       "      <td>TRANSFER</td>\n",
       "      <td>321307.31</td>\n",
       "      <td>C509024717</td>\n",
       "      <td>321307.31</td>\n",
       "      <td>0.00</td>\n",
       "      <td>C136074678</td>\n",
       "      <td>0.00</td>\n",
       "      <td>0.00</td>\n",
       "      <td>1</td>\n",
       "    </tr>\n",
       "    <tr>\n",
       "      <th>1</th>\n",
       "      <td>2</td>\n",
       "      <td>160</td>\n",
       "      <td>TRANSFER</td>\n",
       "      <td>10000000.00</td>\n",
       "      <td>C752627210</td>\n",
       "      <td>27670038.08</td>\n",
       "      <td>17670038.08</td>\n",
       "      <td>C1853789265</td>\n",
       "      <td>0.00</td>\n",
       "      <td>0.00</td>\n",
       "      <td>1</td>\n",
       "    </tr>\n",
       "    <tr>\n",
       "      <th>2</th>\n",
       "      <td>3</td>\n",
       "      <td>40</td>\n",
       "      <td>CASH_OUT</td>\n",
       "      <td>94684.22</td>\n",
       "      <td>C999271610</td>\n",
       "      <td>0.00</td>\n",
       "      <td>0.00</td>\n",
       "      <td>C269348569</td>\n",
       "      <td>100443.55</td>\n",
       "      <td>195127.77</td>\n",
       "      <td>0</td>\n",
       "    </tr>\n",
       "    <tr>\n",
       "      <th>3</th>\n",
       "      <td>4</td>\n",
       "      <td>139</td>\n",
       "      <td>CASH_OUT</td>\n",
       "      <td>61572.27</td>\n",
       "      <td>C2098314951</td>\n",
       "      <td>416524.00</td>\n",
       "      <td>354951.73</td>\n",
       "      <td>C1093723175</td>\n",
       "      <td>126019.53</td>\n",
       "      <td>187591.80</td>\n",
       "      <td>0</td>\n",
       "    </tr>\n",
       "    <tr>\n",
       "      <th>4</th>\n",
       "      <td>5</td>\n",
       "      <td>526</td>\n",
       "      <td>TRANSFER</td>\n",
       "      <td>682901.78</td>\n",
       "      <td>C50452950</td>\n",
       "      <td>0.00</td>\n",
       "      <td>0.00</td>\n",
       "      <td>C2102114319</td>\n",
       "      <td>748928.26</td>\n",
       "      <td>1431830.04</td>\n",
       "      <td>0</td>\n",
       "    </tr>\n",
       "    <tr>\n",
       "      <th>5</th>\n",
       "      <td>6</td>\n",
       "      <td>187</td>\n",
       "      <td>TRANSFER</td>\n",
       "      <td>142740.15</td>\n",
       "      <td>C1405714095</td>\n",
       "      <td>0.00</td>\n",
       "      <td>0.00</td>\n",
       "      <td>C1378055562</td>\n",
       "      <td>246634.60</td>\n",
       "      <td>389374.75</td>\n",
       "      <td>0</td>\n",
       "    </tr>\n",
       "    <tr>\n",
       "      <th>6</th>\n",
       "      <td>7</td>\n",
       "      <td>398</td>\n",
       "      <td>TRANSFER</td>\n",
       "      <td>4309298.47</td>\n",
       "      <td>C668700925</td>\n",
       "      <td>4309298.47</td>\n",
       "      <td>0.00</td>\n",
       "      <td>C1360905880</td>\n",
       "      <td>0.00</td>\n",
       "      <td>0.00</td>\n",
       "      <td>1</td>\n",
       "    </tr>\n",
       "    <tr>\n",
       "      <th>7</th>\n",
       "      <td>8</td>\n",
       "      <td>306</td>\n",
       "      <td>CASH_IN</td>\n",
       "      <td>147790.37</td>\n",
       "      <td>C128950954</td>\n",
       "      <td>499682.00</td>\n",
       "      <td>647472.37</td>\n",
       "      <td>C1911802090</td>\n",
       "      <td>3564911.28</td>\n",
       "      <td>3417120.91</td>\n",
       "      <td>0</td>\n",
       "    </tr>\n",
       "    <tr>\n",
       "      <th>8</th>\n",
       "      <td>9</td>\n",
       "      <td>204</td>\n",
       "      <td>CASH_OUT</td>\n",
       "      <td>170956.09</td>\n",
       "      <td>C1917381506</td>\n",
       "      <td>0.00</td>\n",
       "      <td>0.00</td>\n",
       "      <td>C538563383</td>\n",
       "      <td>1038699.65</td>\n",
       "      <td>1209655.74</td>\n",
       "      <td>0</td>\n",
       "    </tr>\n",
       "    <tr>\n",
       "      <th>9</th>\n",
       "      <td>10</td>\n",
       "      <td>163</td>\n",
       "      <td>CASH_OUT</td>\n",
       "      <td>28810.69</td>\n",
       "      <td>C204552268</td>\n",
       "      <td>49544.00</td>\n",
       "      <td>20733.31</td>\n",
       "      <td>C406232323</td>\n",
       "      <td>73381.08</td>\n",
       "      <td>102191.77</td>\n",
       "      <td>0</td>\n",
       "    </tr>\n",
       "  </tbody>\n",
       "</table>\n",
       "</div>"
      ],
      "text/plain": [
       "   ID  step      type       amount     nameOrig  oldbalanceOrg  \\\n",
       "0   1   487  TRANSFER    321307.31   C509024717      321307.31   \n",
       "1   2   160  TRANSFER  10000000.00   C752627210    27670038.08   \n",
       "2   3    40  CASH_OUT     94684.22   C999271610           0.00   \n",
       "3   4   139  CASH_OUT     61572.27  C2098314951      416524.00   \n",
       "4   5   526  TRANSFER    682901.78    C50452950           0.00   \n",
       "5   6   187  TRANSFER    142740.15  C1405714095           0.00   \n",
       "6   7   398  TRANSFER   4309298.47   C668700925     4309298.47   \n",
       "7   8   306   CASH_IN    147790.37   C128950954      499682.00   \n",
       "8   9   204  CASH_OUT    170956.09  C1917381506           0.00   \n",
       "9  10   163  CASH_OUT     28810.69   C204552268       49544.00   \n",
       "\n",
       "   newbalanceOrig     nameDest  oldbalanceDest  newbalanceDest  isFraud  \n",
       "0            0.00   C136074678            0.00            0.00        1  \n",
       "1     17670038.08  C1853789265            0.00            0.00        1  \n",
       "2            0.00   C269348569       100443.55       195127.77        0  \n",
       "3       354951.73  C1093723175       126019.53       187591.80        0  \n",
       "4            0.00  C2102114319       748928.26      1431830.04        0  \n",
       "5            0.00  C1378055562       246634.60       389374.75        0  \n",
       "6            0.00  C1360905880            0.00            0.00        1  \n",
       "7       647472.37  C1911802090      3564911.28      3417120.91        0  \n",
       "8            0.00   C538563383      1038699.65      1209655.74        0  \n",
       "9        20733.31   C406232323        73381.08       102191.77        0  "
      ]
     },
     "execution_count": 5,
     "metadata": {},
     "output_type": "execute_result"
    }
   ],
   "source": [
    "data.head(10)"
   ]
  },
  {
   "cell_type": "code",
   "execution_count": 6,
   "metadata": {},
   "outputs": [
    {
     "name": "stdout",
     "output_type": "stream",
     "text": [
      "<class 'pandas.core.frame.DataFrame'>\n",
      "RangeIndex: 18213 entries, 0 to 18212\n",
      "Data columns (total 11 columns):\n",
      "ID                18213 non-null int64\n",
      "step              18213 non-null int64\n",
      "type              18213 non-null object\n",
      "amount            18213 non-null float64\n",
      "nameOrig          18213 non-null object\n",
      "oldbalanceOrg     18213 non-null float64\n",
      "newbalanceOrig    18213 non-null float64\n",
      "nameDest          18213 non-null object\n",
      "oldbalanceDest    18213 non-null float64\n",
      "newbalanceDest    18213 non-null float64\n",
      "isFraud           18213 non-null int64\n",
      "dtypes: float64(5), int64(3), object(3)\n",
      "memory usage: 1.5+ MB\n"
     ]
    }
   ],
   "source": [
    "#checking info\n",
    "\n",
    "df.info()"
   ]
  },
  {
   "cell_type": "code",
   "execution_count": 7,
   "metadata": {},
   "outputs": [
    {
     "data": {
      "text/plain": [
       "ID                0\n",
       "step              0\n",
       "type              0\n",
       "amount            0\n",
       "nameOrig          0\n",
       "oldbalanceOrg     0\n",
       "newbalanceOrig    0\n",
       "nameDest          0\n",
       "oldbalanceDest    0\n",
       "newbalanceDest    0\n",
       "isFraud           0\n",
       "dtype: int64"
      ]
     },
     "execution_count": 7,
     "metadata": {},
     "output_type": "execute_result"
    }
   ],
   "source": [
    "#checking null values\n",
    "\n",
    "df.isnull().sum()"
   ]
  },
  {
   "cell_type": "code",
   "execution_count": 8,
   "metadata": {},
   "outputs": [
    {
     "data": {
      "text/plain": [
       "0    10000\n",
       "1     8213\n",
       "Name: isFraud, dtype: int64"
      ]
     },
     "execution_count": 8,
     "metadata": {},
     "output_type": "execute_result"
    }
   ],
   "source": [
    "#value counts of \"IsFraud\" column\n",
    "df['isFraud'].value_counts()"
   ]
  },
  {
   "cell_type": "code",
   "execution_count": 9,
   "metadata": {},
   "outputs": [
    {
     "data": {
      "text/plain": [
       "CASH_OUT    7710\n",
       "TRANSFER    4902\n",
       "PAYMENT     3368\n",
       "CASH_IN     2170\n",
       "DEBIT         63\n",
       "Name: type, dtype: int64"
      ]
     },
     "execution_count": 9,
     "metadata": {},
     "output_type": "execute_result"
    }
   ],
   "source": [
    "#value counts of \"type\" column\n",
    "df['type'].value_counts()"
   ]
  },
  {
   "cell_type": "code",
   "execution_count": 15,
   "metadata": {},
   "outputs": [],
   "source": [
    "# Group by \"TransactionType\" and calculate the mean of \"isFraud\"\n",
    "fraud_percentage_by_type = df.groupby('type')['isFraud'].mean() * 100\n"
   ]
  },
  {
   "cell_type": "code",
   "execution_count": 17,
   "metadata": {},
   "outputs": [
    {
     "data": {
      "image/png": "[encoded data removed]",
      "text/plain": [
       "<Figure size 432x288 with 1 Axes>"
      ]
     },
     "metadata": {},
     "output_type": "display_data"
    }
   ],
   "source": [
    "# Create a bar plot\n",
    "plt.bar(fraud_percentage_by_type.index, fraud_percentage_by_type.values)\n",
    "plt.xlabel('Transaction Type')\n",
    "plt.ylabel('Fraud Percentage')\n",
    "plt.title('Fraud Percentage by Transaction Type Graph')\n",
    "plt.xticks(rotation=45)\n",
    "\n",
    "# Display the plot\n",
    "plt.show()"
   ]
  },
  {
   "cell_type": "code",
   "execution_count": 18,
   "metadata": {},
   "outputs": [
    {
     "name": "stdout",
     "output_type": "stream",
     "text": [
      "The new data now has  12612  transactions.\n"
     ]
    }
   ],
   "source": [
    "#Removing entries in which there is no fraud\n",
    "\n",
    "data = df.loc[df['type'].isin(['CASH_OUT', 'TRANSFER'])]\n",
    "print('The new data now has ', len(data), ' transactions.')  "
   ]
  },
  {
   "cell_type": "code",
   "execution_count": 20,
   "metadata": {},
   "outputs": [
    {
     "name": "stdout",
     "output_type": "stream",
     "text": [
      "Number of transactions where the transaction amount is negative: 0\n"
     ]
    }
   ],
   "source": [
    "#Number of transactions where the transaction amount is negative\n",
    "print('Number of transactions where the transaction amount is negative: ' + str(sum(data['amount'] < 0)))"
   ]
  },
  {
   "cell_type": "code",
   "execution_count": 21,
   "metadata": {},
   "outputs": [
    {
     "name": "stdout",
     "output_type": "stream",
     "text": [
      "Number of transactions where the transaction amount is equal to zero: 16\n"
     ]
    }
   ],
   "source": [
    "#Number of transactions where the transaction amount is equal to zero\n",
    "\n",
    "print('Number of transactions where the transaction amount is equal to zero: ' +\n",
    "str(sum(data['amount'] == 0)))"
   ]
  },
  {
   "cell_type": "code",
   "execution_count": 22,
   "metadata": {},
   "outputs": [
    {
     "name": "stdout",
     "output_type": "stream",
     "text": [
      "Percentage of transactions where originators initial balance is 0: 16.60\n"
     ]
    },
    {
     "data": {
      "image/png": "[encoded data removed]",
      "text/plain": [
       "<Figure size 432x288 with 1 Axes>"
      ]
     },
     "metadata": {},
     "output_type": "display_data"
    }
   ],
   "source": [
    "#Percentage of transactions where originators initial balance is 0\n",
    "\n",
    "no_Ofzero=sum(data['oldbalanceOrg']==0)\n",
    "total=len(data['oldbalanceDest'])\n",
    "percentage=(no_Ofzero/total)*100\n",
    "print(f\"Percentage of transactions where originators initial balance is 0: {percentage:.2f}\")\n",
    "\n",
    "labels = ['Initial Balance 0', 'Initial Balance Not 0']\n",
    "sizes = [percentage, 100 - percentage]\n",
    "colors = ['gold', 'lightskyblue']\n",
    "explode = (0.1, 0)  # explode the 1st slice\n",
    "\n",
    "plt.pie(sizes, explode=explode, labels=labels, colors=colors,\n",
    "autopct='%1.1f%%', shadow=True, startangle=140)\n",
    "\n",
    "plt.axis('equal')  # Equal aspect ratio ensures that pie is drawn as a circle.\n",
    "plt.title(\"Percentage of Transactions where originators Initial Balance 0\")\n",
    "plt.show()"
   ]
  },
  {
   "cell_type": "code",
   "execution_count": 23,
   "metadata": {},
   "outputs": [
    {
     "data": {
      "image/png": "[encoded data removed]",
      "text/plain": [
       "<Figure size 432x288 with 1 Axes>"
      ]
     },
     "metadata": {},
     "output_type": "display_data"
    }
   ],
   "source": [
    "#percentage of transactions where destination's final balance is 0\n",
    "no_Ofzero=sum(data['newbalanceDest']==0)\n",
    "total=len(data['newbalanceDest'])\n",
    "percentage=(no_Ofzero/total)*100\n",
    "\n",
    "#pie plot\n",
    "import matplotlib.pyplot as plt\n",
    "labels = ['Final Balance 0', 'Final Balance Not 0']\n",
    "sizes = [percentage, 100 - percentage]  # Corrected calculation\n",
    "colors = ['gold', 'lightskyblue']\n",
    "explode = (0.1, 0)  # Explode the first slice\n",
    "\n",
    "# Create pie plot\n",
    "plt.pie(sizes, explode=explode, labels=labels, colors=colors,autopct='%1.1f%%', shadow=True, startangle=140)\n",
    "plt.axis('equal')  \n",
    "plt.title(\"Percentage of Transactions where destination's final balance is 0\")\n",
    "\n",
    "# Display the plot\n",
    "plt.show()"
   ]
  },
  {
   "cell_type": "code",
   "execution_count": 26,
   "metadata": {},
   "outputs": [
    {
     "name": "stdout",
     "output_type": "stream",
     "text": [
      "8213\n",
      "41\n",
      "% of fraudulent transactions where initial balance of originator is 0: 0.499209\n"
     ]
    },
    {
     "data": {
      "image/png": "[encoded data removed]",
      "text/plain": [
       "<Figure size 432x288 with 1 Axes>"
      ]
     },
     "metadata": {},
     "output_type": "display_data"
    }
   ],
   "source": [
    "#Percentage of Fraudulent Transactions where initial balance of originator is 0\n",
    "#for fraudulant data\n",
    "\n",
    "fraud_count=0\n",
    "for i in range(len(data['isFraud'])):\n",
    "  if data['isFraud'].values[i] ==1 :\n",
    "    fraud_count=fraud_count+1\n",
    "print(fraud_count)\n",
    "\n",
    "value_count=0\n",
    "for i in range(len(data['isFraud'])):\n",
    "  if data['isFraud'].values[i] ==1 and data['oldbalanceOrg'].values[i]==0 :\n",
    "    value_count=value_count+1\n",
    "print(value_count)\n",
    "\n",
    "\n",
    "percentage=(value_count/fraud_count)*100\n",
    "print(f\"% of fraudulent transactions where initial balance of originator is 0: {percentage:2f}\")\n",
    "\n",
    "labels = [\"Initial Balance Not 0\", \"Initial Balance 0\"]\n",
    "sizes = [100 - percentage, percentage]\n",
    "colors = ['lightskyblue', 'gold']\n",
    "explode = (0, 0.1)  # Explode the \"Initial Balance 0\" slice\n",
    "\n",
    "# Create pie plot\n",
    "plt.pie(sizes, explode=explode, labels=labels, colors=colors,\n",
    "        autopct='%1.1f%%', shadow=True, startangle=140)\n",
    "\n",
    "plt.axis('equal')  # Equal aspect ratio ensures the pie is drawn as a circle.\n",
    "plt.title(\"Percentage of Fraudulent Transactions where initial balance of originator is 0\")\n",
    "\n",
    "# Display the plot\n",
    "plt.show()"
   ]
  },
  {
   "cell_type": "code",
   "execution_count": 31,
   "metadata": {},
   "outputs": [
    {
     "name": "stdout",
     "output_type": "stream",
     "text": [
      "4399\n",
      "2053\n",
      "% of non fraudulent transactions where initial balance of originator is 0: 46.669698\n"
     ]
    },
    {
     "data": {
      "image/png": "[encoded data removed]",
      "text/plain": [
       "<Figure size 432x288 with 1 Axes>"
      ]
     },
     "metadata": {},
     "output_type": "display_data"
    }
   ],
   "source": [
    "#for non fraudulant data\n",
    "\n",
    "fraud_count=0\n",
    "for i in range(len(data['isFraud'])):\n",
    "  if data['isFraud'].values[i] ==0 :\n",
    "    fraud_count=fraud_count+1\n",
    "print(fraud_count)\n",
    "\n",
    "value_count=0\n",
    "for i in range(len(data['isFraud'])):\n",
    "  if data['isFraud'].values[i] ==0 and data['oldbalanceOrg'].values[i]==0 :\n",
    "    value_count=value_count+1\n",
    "print(value_count)\n",
    "\n",
    "\n",
    "percentage=(value_count/fraud_count)*100\n",
    "print(f\"% of non fraudulent transactions where initial balance of originator is 0: {percentage:2f}\")\n",
    "\n",
    "labels = [\"Initial Balance Not 0\", \"Initial Balance 0\"]\n",
    "sizes = [100 - percentage, percentage]\n",
    "colors = ['lightskyblue', 'gold']\n",
    "explode = (0, 0.1)  # Explode the \"Initial Balance 0\" slice\n",
    "\n",
    "# Create pie plot\n",
    "plt.pie(sizes, explode=explode, labels=labels, colors=colors,\n",
    "        autopct='%1.001f%%', shadow=True, startangle=140)\n",
    "\n",
    "plt.axis('equal')  # Equal aspect ratio ensures the pie is drawn as a circle.\n",
    "plt.title(\"Percentage of Non Fraudulent Transactions where initial balance of originator is 0\")\n",
    "\n",
    "# Display the plot\n",
    "plt.show()     "
   ]
  },
  {
   "cell_type": "code",
   "execution_count": 32,
   "metadata": {},
   "outputs": [
    {
     "name": "stdout",
     "output_type": "stream",
     "text": [
      "   ID      type       amount  oldbalanceOrg  newbalanceOrig  oldbalanceDest  \\\n",
      "0   1  TRANSFER    321307.31      321307.31            0.00            0.00   \n",
      "1   2  TRANSFER  10000000.00    27670038.08     17670038.08            0.00   \n",
      "2   3  CASH_OUT     94684.22           0.00            0.00       100443.55   \n",
      "3   4  CASH_OUT     61572.27      416524.00       354951.73       126019.53   \n",
      "4   5  TRANSFER    682901.78           0.00            0.00       748928.26   \n",
      "\n",
      "   newbalanceDest  \n",
      "0            0.00  \n",
      "1            0.00  \n",
      "2       195127.77  \n",
      "3       187591.80  \n",
      "4      1431830.04  \n"
     ]
    },
    {
     "data": {
      "text/plain": [
       "12612"
      ]
     },
     "execution_count": 32,
     "metadata": {},
     "output_type": "execute_result"
    }
   ],
   "source": [
    "#Drop 'nameOrig', 'nameDest','isFraud','step' columns\n",
    "data1 = data.drop(['nameOrig', 'nameDest','isFraud','step'], axis=1)\n",
    "print(data1.head())\n",
    "len(data1)"
   ]
  },
  {
   "cell_type": "code",
   "execution_count": 33,
   "metadata": {},
   "outputs": [
    {
     "name": "stdout",
     "output_type": "stream",
     "text": [
      "len of train data 8828\n",
      "len of test data 3784\n"
     ]
    }
   ],
   "source": [
    "#Test train spliting precess\n",
    "\n",
    "from sklearn.model_selection import train_test_split\n",
    "train_data,test_data=train_test_split(data1,test_size=0.3,random_state=21)\n",
    "print(\"len of train data\",len(train_data))\n",
    "print(\"len of test data\",len(test_data))"
   ]
  },
  {
   "cell_type": "code",
   "execution_count": 34,
   "metadata": {},
   "outputs": [
    {
     "name": "stdout",
     "output_type": "stream",
     "text": [
      "len of train data 8828\n",
      "len of test data 3784\n"
     ]
    }
   ],
   "source": [
    "#Test train spliting precess\n",
    "\n",
    "from sklearn.model_selection import train_test_split\n",
    "train_data,test_data=train_test_split(data1,test_size=0.3,random_state=21)\n",
    "print(\"len of train data\",len(train_data))\n",
    "print(\"len of test data\",len(test_data))"
   ]
  },
  {
   "cell_type": "code",
   "execution_count": null,
   "metadata": {},
   "outputs": [],
   "source": [
    "#training data\n",
    "x_train=train_data.drop([\"isFraud\"],axis=1)\n",
    "y_train=train_data[\"isFraud\"]\n",
    "\n",
    "#testing data\n",
    "x_test=test_data.drop(\"isFraud\",axis=1)\n",
    "y_test=test_data[\"isFraud\"]\n",
    "print(type(y_train))"
   ]
  },
  {
   "cell_type": "code",
   "execution_count": null,
   "metadata": {},
   "outputs": [],
   "source": [
    "from sklearn.pipeline import Pipeline\n",
    "from sklearn.preprocessing import MinMaxScaler,OneHotEncoder\n",
    "\n",
    "#numerical features\n",
    "num_feats=x_train.drop(\"type\",axis=1)\n",
    "num_feats_pipe=Pipeline([\n",
    "    (\"scalar\",MinMaxScaler())\n",
    "    ])\n",
    "num_feats_preprocessed=num_feats_pipe.fit_transform(num_feats)\n",
    "\n",
    "#catagorical features\n",
    "cat_feats=x_train[[\"type\"]]\n",
    "cat_feats_pipe=Pipeline([\n",
    "    (\"encoder\",OneHotEncoder())\n",
    "    ])\n",
    "cat_feats_preprocessed=cat_feats_pipe.fit_transform(cat_feats)\n",
    "print(num_feats)"
   ]
  },
  {
   "cell_type": "code",
   "execution_count": null,
   "metadata": {},
   "outputs": [],
   "source": [
    "from sklearn.compose import ColumnTransformer\n",
    "num_list=list(num_feats)\n",
    "cat_list=list(cat_feats)\n",
    "\n",
    "final_pipeline=ColumnTransformer([\n",
    "    (\"num\",num_feats_pipe,num_list),\n",
    "    (\"cat\",cat_feats_pipe,cat_list)])\n",
    "X_train_preprocessed=final_pipeline.fit_transform(x_train)\n",
    "print(x_train)\n",
    "X_train_preprocessed\n",
    "\n",
    "X_test_preprocessed = final_pipeline.fit_transform(x_test)\n",
    "X_test_preprocessed"
   ]
  },
  {
   "cell_type": "code",
   "execution_count": 38,
   "metadata": {},
   "outputs": [],
   "source": [
    "#logistic regression\n",
    "\n",
    "from sklearn.linear_model import LogisticRegression\n",
    "model = LogisticRegression()    "
   ]
  },
  {
   "cell_type": "code",
   "execution_count": null,
   "metadata": {},
   "outputs": [],
   "source": [
    "log_model=model.fit(X_train_preprocessed,y_train)"
   ]
  },
  {
   "cell_type": "code",
   "execution_count": null,
   "metadata": {},
   "outputs": [],
   "source": [
    "y_train_pred = log_model.predict(X_train_preprocessed)\n",
    "y_train_pred"
   ]
  },
  {
   "cell_type": "code",
   "execution_count": null,
   "metadata": {},
   "outputs": [],
   "source": [
    "y_test_pred=log_model.predict(X_test_preprocessed)\n",
    "y_test_pred"
   ]
  },
  {
   "cell_type": "code",
   "execution_count": null,
   "metadata": {},
   "outputs": [],
   "source": [
    "#Train Confusion Matrix\n",
    "from sklearn.metrics import confusion_matrix\n",
    "\n",
    "# Compute the confusion matrix\n",
    "cm = confusion_matrix(y_train, y_train_pred)\n",
    "\n",
    "# Create a heatmap to visualize the confusion matrix\n",
    "plt.figure(figsize=(6, 4))\n",
    "sns.heatmap(cm, annot=True, fmt=\"d\", cmap=\"Blues\", cbar=False)\n",
    "plt.xlabel(\"Predicted Labels \")\n",
    "plt.ylabel(\"True Labels \")\n",
    "plt.title(\" Train Confusion Matrix\")\n",
    "plt.show()"
   ]
  },
  {
   "cell_type": "code",
   "execution_count": null,
   "metadata": {},
   "outputs": [],
   "source": [
    "#Test Confusion Matrix\n",
    "from sklearn.metrics import confusion_matrix\n",
    "\n",
    "# Compute the confusion matrix\n",
    "cm = confusion_matrix(y_test, y_test_pred)\n",
    "\n",
    "# Create a heatmap to visualize the confusion matrix\n",
    "plt.figure(figsize=(6, 4))\n",
    "sns.heatmap(cm, annot=True, fmt=\"d\", cmap=\"Blues\", cbar=False)\n",
    "plt.xlabel(\"Predicted Labels \")\n",
    "plt.ylabel(\"True Labels \")\n",
    "plt.title(\" Test Confusion Matrix\")\n",
    "plt.show()"
   ]
  },
  {
   "cell_type": "code",
   "execution_count": null,
   "metadata": {},
   "outputs": [],
   "source": [
    "#F1 score of train and test\n",
    "\n",
    "from sklearn.metrics import f1_score\n",
    "f1 = f1_score(y_train,y_train_pred)\n",
    "print(\"F1 Score of train data:\", f1)\n",
    "\n",
    "f2 = f1_score(y_test,y_test_pred)\n",
    "print(\"F1 Score of test data:\", f2)"
   ]
  },
  {
   "cell_type": "code",
   "execution_count": null,
   "metadata": {},
   "outputs": [],
   "source": [
    "#Random Forest\n",
    "\n",
    "from sklearn.ensemble import RandomForestClassifier\n",
    "\n",
    "# Create a Random Forest classifier\n",
    "rf_model = RandomForestClassifier(n_estimators=100, random_state=21)\n",
    "\n",
    "# Train the model on your training data\n",
    "rf_model.fit(X_train_preprocessed,y_train)\n",
    "\n",
    "# Make predictions on your testing data\n",
    "y_test_pred_rf = rf_model.predict(X_test_preprocessed)"
   ]
  },
  {
   "cell_type": "code",
   "execution_count": null,
   "metadata": {},
   "outputs": [],
   "source": [
    "# Make predictions on training data\n",
    "y_train_pred_rf = rf_model.predict(X_train_preprocessed)\n",
    "y_train_pred_rf\n",
    "y_test_pred_rf"
   ]
  },
  {
   "cell_type": "code",
   "execution_count": null,
   "metadata": {},
   "outputs": [],
   "source": [
    "#F1 score of train and test\n",
    "from sklearn.metrics import f1_score\n",
    "f1 = f1_score(y_train,y_train_pred_rf)\n",
    "print(\"F1 Score of train data:\", f1)\n",
    "\n",
    "f2 = f1_score(y_test,y_test_pred_rf)\n",
    "print(\"F1 Score of test data:\", f2)"
   ]
  },
  {
   "cell_type": "code",
   "execution_count": null,
   "metadata": {},
   "outputs": [],
   "source": [
    "from sklearn.metrics import classification_report\n",
    "report = classification_report(y_test, y_test_pred_rf)\n",
    "print(report)"
   ]
  }
 ],
 "metadata": {
  "kernelspec": {
   "display_name": "Python 3",
   "language": "python",
   "name": "python3"
  },
  "language_info": {
   "codemirror_mode": {
    "name": "ipython",
    "version": 3
   },
   "file_extension": ".py",
   "mimetype": "text/x-python",
   "name": "python",
   "nbconvert_exporter": "python",
   "pygments_lexer": "ipython3",
   "version": "3.6.5"
  }
 },
 "nbformat": 4,
 "nbformat_minor": 2
}
